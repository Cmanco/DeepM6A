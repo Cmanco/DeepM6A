{
 "cells": [
  {
   "cell_type": "code",
   "execution_count": 1,
   "metadata": {},
   "outputs": [
    {
     "name": "stderr",
     "output_type": "stream",
     "text": [
      "Using TensorFlow backend.\n"
     ]
    }
   ],
   "source": [
    "from DEM6A import DeepM6A"
   ]
  },
  {
   "cell_type": "code",
   "execution_count": 2,
   "metadata": {},
   "outputs": [],
   "source": [
    "DA = DeepM6A('./', epochs=5)"
   ]
  },
  {
   "cell_type": "code",
   "execution_count": 3,
   "metadata": {},
   "outputs": [
    {
     "name": "stdout",
     "output_type": "stream",
     "text": [
      "(31406, 61, 4)\n",
      "train_label: count (array([0, 1]), array([15703, 15703]))\n",
      "valid_label: count (array([0, 1]), array([1962, 1962]))\n",
      "building model...............\n",
      "WARNING:tensorflow:From /Users/tanfei/anaconda3/lib/python3.7/site-packages/tensorflow/python/framework/op_def_library.py:263: colocate_with (from tensorflow.python.framework.ops) is deprecated and will be removed in a future version.\n",
      "Instructions for updating:\n",
      "Colocations handled automatically by placer.\n",
      "WARNING:tensorflow:From /Users/tanfei/anaconda3/lib/python3.7/site-packages/keras/backend/tensorflow_backend.py:3445: calling dropout (from tensorflow.python.ops.nn_ops) with keep_prob is deprecated and will be removed in a future version.\n",
      "Instructions for updating:\n",
      "Please use `rate` instead of `keep_prob`. Rate should be set to `rate = 1 - keep_prob`.\n"
     ]
    },
    {
     "name": "stderr",
     "output_type": "stream",
     "text": [
      "/Users/tanfei/anaconda3/lib/python3.7/site-packages/DEM6A/deepm6a.py:68: UserWarning: Update your `Conv1D` call to the Keras 2 API: `Conv1D(activation=\"linear\", name=\"conv1\", input_shape=(61, 4), filters=80, kernel_size=4, strides=1, padding=\"valid\", kernel_initializer=\"he_normal\")`\n",
      "  name = \"conv1\"))\n",
      "/Users/tanfei/anaconda3/lib/python3.7/site-packages/DEM6A/deepm6a.py:79: UserWarning: Update your `Conv1D` call to the Keras 2 API: `Conv1D(activation=\"linear\", name=\"conv2\", filters=80, kernel_size=2, strides=1, padding=\"valid\", kernel_initializer=\"he_normal\")`\n",
      "  name = \"conv2\"))\n",
      "/Users/tanfei/anaconda3/lib/python3.7/site-packages/DEM6A/deepm6a.py:90: UserWarning: Update your `Conv1D` call to the Keras 2 API: `Conv1D(activation=\"linear\", name=\"conv3\", filters=80, kernel_size=4, strides=1, padding=\"valid\", kernel_initializer=\"he_normal\")`\n",
      "  name=\"conv3\"))\n",
      "/Users/tanfei/anaconda3/lib/python3.7/site-packages/DEM6A/deepm6a.py:101: UserWarning: Update your `Conv1D` call to the Keras 2 API: `Conv1D(activation=\"linear\", name=\"conv4\", filters=80, kernel_size=4, strides=1, padding=\"valid\", kernel_initializer=\"he_normal\")`\n",
      "  name = \"conv4\"))\n",
      "/Users/tanfei/anaconda3/lib/python3.7/site-packages/DEM6A/deepm6a.py:113: UserWarning: Update your `Conv1D` call to the Keras 2 API: `Conv1D(padding=\"valid\", activation=\"linear\", name=\"conv5\", filters=80, kernel_size=4, strides=1, kernel_initializer=\"he_normal\")`\n",
      "  name = \"conv5\"))\n"
     ]
    },
    {
     "name": "stdout",
     "output_type": "stream",
     "text": [
      "_________________________________________________________________\n",
      "Layer (type)                 Output Shape              Param #   \n",
      "=================================================================\n",
      "conv1 (Conv1D)               (None, 58, 80)            1360      \n",
      "_________________________________________________________________\n",
      "leaky_re_lu_1 (LeakyReLU)    (None, 58, 80)            0         \n",
      "_________________________________________________________________\n",
      "dropout_1 (Dropout)          (None, 58, 80)            0         \n",
      "_________________________________________________________________\n",
      "conv2 (Conv1D)               (None, 57, 80)            12880     \n",
      "_________________________________________________________________\n",
      "leaky_re_lu_2 (LeakyReLU)    (None, 57, 80)            0         \n",
      "_________________________________________________________________\n",
      "dropout_2 (Dropout)          (None, 57, 80)            0         \n",
      "_________________________________________________________________\n",
      "conv3 (Conv1D)               (None, 54, 80)            25680     \n",
      "_________________________________________________________________\n",
      "leaky_re_lu_3 (LeakyReLU)    (None, 54, 80)            0         \n",
      "_________________________________________________________________\n",
      "dropout_3 (Dropout)          (None, 54, 80)            0         \n",
      "_________________________________________________________________\n",
      "conv4 (Conv1D)               (None, 51, 80)            25680     \n",
      "_________________________________________________________________\n",
      "leaky_re_lu_4 (LeakyReLU)    (None, 51, 80)            0         \n",
      "_________________________________________________________________\n",
      "dropout_4 (Dropout)          (None, 51, 80)            0         \n",
      "_________________________________________________________________\n",
      "conv5 (Conv1D)               (None, 48, 80)            25680     \n",
      "_________________________________________________________________\n",
      "leaky_re_lu_5 (LeakyReLU)    (None, 48, 80)            0         \n",
      "_________________________________________________________________\n",
      "dropout_5 (Dropout)          (None, 48, 80)            0         \n",
      "_________________________________________________________________\n",
      "flatten_1 (Flatten)          (None, 3840)              0         \n",
      "_________________________________________________________________\n",
      "dense_1 (Dense)              (None, 100)               384100    \n",
      "_________________________________________________________________\n",
      "leaky_re_lu_6 (LeakyReLU)    (None, 100)               0         \n",
      "_________________________________________________________________\n",
      "dropout_6 (Dropout)          (None, 100)               0         \n",
      "_________________________________________________________________\n",
      "dense_2 (Dense)              (None, 1)                 101       \n",
      "_________________________________________________________________\n",
      "activation_1 (Activation)    (None, 1)                 0         \n",
      "=================================================================\n",
      "Total params: 475,481\n",
      "Trainable params: 475,481\n",
      "Non-trainable params: 0\n",
      "_________________________________________________________________\n",
      "compiling and fitting model...........\n",
      "WARNING:tensorflow:From /Users/tanfei/anaconda3/lib/python3.7/site-packages/tensorflow/python/ops/math_ops.py:3066: to_int32 (from tensorflow.python.ops.math_ops) is deprecated and will be removed in a future version.\n",
      "Instructions for updating:\n",
      "Use tf.cast instead.\n",
      "Train on 31406 samples, validate on 3924 samples\n",
      "Epoch 1/5\n",
      " - 30s - loss: 0.6426 - acc: 0.6219 - val_loss: 0.4798 - val_acc: 0.7836\n",
      "\n",
      "Epoch 00001: val_loss improved from inf to 0.47985, saving model to ./DeepM6A.hdf5\n",
      "Epoch 2/5\n",
      " - 31s - loss: 0.4499 - acc: 0.7988 - val_loss: 0.3727 - val_acc: 0.8366\n",
      "\n",
      "Epoch 00002: val_loss improved from 0.47985 to 0.37268, saving model to ./DeepM6A.hdf5\n",
      "Epoch 3/5\n",
      " - 31s - loss: 0.3970 - acc: 0.8325 - val_loss: 0.3538 - val_acc: 0.8476\n",
      "\n",
      "Epoch 00003: val_loss improved from 0.37268 to 0.35380, saving model to ./DeepM6A.hdf5\n",
      "Epoch 4/5\n",
      " - 30s - loss: 0.3767 - acc: 0.8428 - val_loss: 0.3419 - val_acc: 0.8568\n",
      "\n",
      "Epoch 00004: val_loss improved from 0.35380 to 0.34192, saving model to ./DeepM6A.hdf5\n",
      "Epoch 5/5\n",
      " - 29s - loss: 0.3615 - acc: 0.8505 - val_loss: 0.3348 - val_acc: 0.8586\n",
      "\n",
      "Epoch 00005: val_loss improved from 0.34192 to 0.33483, saving model to ./DeepM6A.hdf5\n",
      "training done!\n"
     ]
    }
   ],
   "source": [
    "DA.fit(train_name='m6A_30.train_10.hdf5', valid_name='m6A_30.valid_10.hdf5')"
   ]
  },
  {
   "cell_type": "code",
   "execution_count": 4,
   "metadata": {},
   "outputs": [
    {
     "name": "stdout",
     "output_type": "stream",
     "text": [
      "_________________________________________________________________\n",
      "Layer (type)                 Output Shape              Param #   \n",
      "=================================================================\n",
      "conv1 (Conv1D)               (None, 58, 80)            1360      \n",
      "_________________________________________________________________\n",
      "leaky_re_lu_1 (LeakyReLU)    (None, 58, 80)            0         \n",
      "_________________________________________________________________\n",
      "dropout_1 (Dropout)          (None, 58, 80)            0         \n",
      "_________________________________________________________________\n",
      "conv2 (Conv1D)               (None, 57, 80)            12880     \n",
      "_________________________________________________________________\n",
      "leaky_re_lu_2 (LeakyReLU)    (None, 57, 80)            0         \n",
      "_________________________________________________________________\n",
      "dropout_2 (Dropout)          (None, 57, 80)            0         \n",
      "_________________________________________________________________\n",
      "conv3 (Conv1D)               (None, 54, 80)            25680     \n",
      "_________________________________________________________________\n",
      "leaky_re_lu_3 (LeakyReLU)    (None, 54, 80)            0         \n",
      "_________________________________________________________________\n",
      "dropout_3 (Dropout)          (None, 54, 80)            0         \n",
      "_________________________________________________________________\n",
      "conv4 (Conv1D)               (None, 51, 80)            25680     \n",
      "_________________________________________________________________\n",
      "leaky_re_lu_4 (LeakyReLU)    (None, 51, 80)            0         \n",
      "_________________________________________________________________\n",
      "dropout_4 (Dropout)          (None, 51, 80)            0         \n",
      "_________________________________________________________________\n",
      "conv5 (Conv1D)               (None, 48, 80)            25680     \n",
      "_________________________________________________________________\n",
      "leaky_re_lu_5 (LeakyReLU)    (None, 48, 80)            0         \n",
      "_________________________________________________________________\n",
      "dropout_5 (Dropout)          (None, 48, 80)            0         \n",
      "_________________________________________________________________\n",
      "flatten_1 (Flatten)          (None, 3840)              0         \n",
      "_________________________________________________________________\n",
      "dense_1 (Dense)              (None, 100)               384100    \n",
      "_________________________________________________________________\n",
      "leaky_re_lu_6 (LeakyReLU)    (None, 100)               0         \n",
      "_________________________________________________________________\n",
      "dropout_6 (Dropout)          (None, 100)               0         \n",
      "_________________________________________________________________\n",
      "dense_2 (Dense)              (None, 1)                 101       \n",
      "_________________________________________________________________\n",
      "activation_1 (Activation)    (None, 1)                 0         \n",
      "=================================================================\n",
      "Total params: 475,481\n",
      "Trainable params: 475,481\n",
      "Non-trainable params: 0\n",
      "_________________________________________________________________\n",
      "test_label: count (array([0, 1]), array([1967, 1967]))\n",
      "**************prediction results on test dataset************\n",
      "3934/3934 [==============================] - 1s 250us/step\n",
      "[0.31026199508513297, 0.8703609555883945]\n",
      "3934/3934 [==============================] - 2s 457us/step\n",
      "3934/3934 [==============================] - 1s 313us/step\n",
      "************************\n",
      "auc: 0.9462413503540498\n",
      "mcc: 0.7411143046885161\n",
      "precision:0.8586903003446578 recall:0.8866293848500254 f1score:0.8724362181090546 support:1967\n",
      "************************\n"
     ]
    }
   ],
   "source": [
    "# call cached model\n",
    "DA.predict('m6A_30.test_10.hdf5', 'rslt.csv')"
   ]
  },
  {
   "cell_type": "code",
   "execution_count": 5,
   "metadata": {},
   "outputs": [
    {
     "name": "stdout",
     "output_type": "stream",
     "text": [
      "_________________________________________________________________\n",
      "Layer (type)                 Output Shape              Param #   \n",
      "=================================================================\n",
      "conv1 (Conv1D)               (None, 58, 80)            1360      \n",
      "_________________________________________________________________\n",
      "leaky_re_lu_1 (LeakyReLU)    (None, 58, 80)            0         \n",
      "_________________________________________________________________\n",
      "dropout_1 (Dropout)          (None, 58, 80)            0         \n",
      "_________________________________________________________________\n",
      "conv2 (Conv1D)               (None, 57, 80)            12880     \n",
      "_________________________________________________________________\n",
      "leaky_re_lu_2 (LeakyReLU)    (None, 57, 80)            0         \n",
      "_________________________________________________________________\n",
      "dropout_2 (Dropout)          (None, 57, 80)            0         \n",
      "_________________________________________________________________\n",
      "conv3 (Conv1D)               (None, 54, 80)            25680     \n",
      "_________________________________________________________________\n",
      "leaky_re_lu_3 (LeakyReLU)    (None, 54, 80)            0         \n",
      "_________________________________________________________________\n",
      "dropout_3 (Dropout)          (None, 54, 80)            0         \n",
      "_________________________________________________________________\n",
      "conv4 (Conv1D)               (None, 51, 80)            25680     \n",
      "_________________________________________________________________\n",
      "leaky_re_lu_4 (LeakyReLU)    (None, 51, 80)            0         \n",
      "_________________________________________________________________\n",
      "dropout_4 (Dropout)          (None, 51, 80)            0         \n",
      "_________________________________________________________________\n",
      "conv5 (Conv1D)               (None, 48, 80)            25680     \n",
      "_________________________________________________________________\n",
      "leaky_re_lu_5 (LeakyReLU)    (None, 48, 80)            0         \n",
      "_________________________________________________________________\n",
      "dropout_5 (Dropout)          (None, 48, 80)            0         \n",
      "_________________________________________________________________\n",
      "flatten_1 (Flatten)          (None, 3840)              0         \n",
      "_________________________________________________________________\n",
      "dense_1 (Dense)              (None, 100)               384100    \n",
      "_________________________________________________________________\n",
      "leaky_re_lu_6 (LeakyReLU)    (None, 100)               0         \n",
      "_________________________________________________________________\n",
      "dropout_6 (Dropout)          (None, 100)               0         \n",
      "_________________________________________________________________\n",
      "dense_2 (Dense)              (None, 1)                 101       \n",
      "_________________________________________________________________\n",
      "activation_1 (Activation)    (None, 1)                 0         \n",
      "=================================================================\n",
      "Total params: 475,481\n",
      "Trainable params: 475,481\n",
      "Non-trainable params: 0\n",
      "_________________________________________________________________\n",
      "test_label: count (array([0, 1]), array([1967, 1967]))\n",
      "**************prediction results on test dataset************\n",
      "3934/3934 [==============================] - 1s 351us/step\n",
      "[0.31026199508513297, 0.8703609555883945]\n",
      "3934/3934 [==============================] - 1s 313us/step\n",
      "3934/3934 [==============================] - 1s 283us/step\n",
      "************************\n",
      "auc: 0.9462413503540498\n",
      "mcc: 0.7411143046885161\n",
      "precision:0.8586903003446578 recall:0.8866293848500254 f1score:0.8724362181090546 support:1967\n",
      "************************\n"
     ]
    }
   ],
   "source": [
    "# call saved model\n",
    "DA.predict('m6A_30.test_10.hdf5', 'rslt.csv', bestmodel='./DeepM6A.hdf5')"
   ]
  },
  {
   "cell_type": "code",
   "execution_count": null,
   "metadata": {},
   "outputs": [],
   "source": []
  }
 ],
 "metadata": {
  "kernelspec": {
   "display_name": "Python 3",
   "language": "python",
   "name": "python3"
  },
  "language_info": {
   "codemirror_mode": {
    "name": "ipython",
    "version": 3
   },
   "file_extension": ".py",
   "mimetype": "text/x-python",
   "name": "python",
   "nbconvert_exporter": "python",
   "pygments_lexer": "ipython3",
   "version": "3.7.3"
  }
 },
 "nbformat": 4,
 "nbformat_minor": 2
}
